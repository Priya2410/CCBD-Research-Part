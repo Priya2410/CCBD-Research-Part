{
 "cells": [
  {
   "cell_type": "code",
   "execution_count": 41,
   "id": "6d920fd5",
   "metadata": {},
   "outputs": [],
   "source": [
    "fp1=open('system1.csv','a+')"
   ]
  },
  {
   "cell_type": "code",
   "execution_count": 42,
   "id": "cd3d8c6f",
   "metadata": {},
   "outputs": [],
   "source": [
    "import csv\n",
    "writer = csv.writer(fp1)\n",
    "for i in range(1,10):\n",
    "    fp=open('CCBD/output'+str(i)+'.txt');\n",
    "    l=fp.readlines();\n",
    "    d=dict()\n",
    "#     writer.writerow([\"ProcessID\",l[0].split()[2]])\n",
    "    writer.writerow([\"Serial Number\",\"System-Calls\",\"Number of Times\"])\n",
    "    for i in range(2,len(l)-1):\n",
    "        line=l[i];\n",
    "        list1=line.split('(');\n",
    "        d[list1[0]]=0;\n",
    "\n",
    "    for i in range(2,len(l)-1):\n",
    "        line=l[i];\n",
    "        list1=line.split('(');\n",
    "        d[list1[0]]+=1\n",
    "\n",
    "    list = [(k,v) for v, k in d.items()]\n",
    "    list=sorted(list,reverse=True)\n",
    "\n",
    "    for i in range(0,len(list)):\n",
    "        writer.writerow([i+1,list[i][1],list[i][0]]);\n"
   ]
  },
  {
   "cell_type": "code",
   "execution_count": 30,
   "id": "2b444134",
   "metadata": {},
   "outputs": [],
   "source": [
    "\n"
   ]
  },
  {
   "cell_type": "code",
   "execution_count": null,
   "id": "5678a9bf",
   "metadata": {},
   "outputs": [],
   "source": []
  }
 ],
 "metadata": {
  "kernelspec": {
   "display_name": "Python 3",
   "language": "python",
   "name": "python3"
  },
  "language_info": {
   "codemirror_mode": {
    "name": "ipython",
    "version": 3
   },
   "file_extension": ".py",
   "mimetype": "text/x-python",
   "name": "python",
   "nbconvert_exporter": "python",
   "pygments_lexer": "ipython3",
   "version": "3.7.3"
  }
 },
 "nbformat": 4,
 "nbformat_minor": 5
}
